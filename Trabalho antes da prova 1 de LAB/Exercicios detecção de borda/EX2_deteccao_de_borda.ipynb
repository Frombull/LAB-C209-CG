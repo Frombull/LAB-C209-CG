{
 "cells": [
  {
   "cell_type": "code",
   "execution_count": 1,
   "metadata": {},
   "outputs": [],
   "source": [
    "import matplotlib.pyplot as plt\n",
    "from PIL import Image\n",
    "import numpy as np"
   ]
  },
  {
   "cell_type": "code",
   "execution_count": 2,
   "metadata": {},
   "outputs": [],
   "source": [
    "MARIO_SACUDO_RGB = np.array(Image.open(\"mario_sacudo.png\"))[:, :, :3]"
   ]
  },
  {
   "cell_type": "code",
   "execution_count": 4,
   "metadata": {},
   "outputs": [],
   "source": [
    "def convert_to_grayscale(rgb_image: np.ndarray) -> np.ndarray:\n",
    "    # Carregar a imagem\n",
    "    l, c, _ = rgb_image.shape\n",
    "    \n",
    "    # Criar matriz para armazenar a versão em cinza\n",
    "    grayscale_image = np.zeros((l, c), dtype=np.uint8)\n",
    "    \n",
    "    # Converter para escala de cinza\n",
    "    for i in range(l):\n",
    "        for j in range(c):\n",
    "            r, g, b = map(float, rgb_image[i, j])\n",
    "            grayscale_image[i, j] = int((r + g + b) / 3)\n",
    "    \n",
    "    return grayscale_image"
   ]
  },
  {
   "cell_type": "code",
   "execution_count": 5,
   "metadata": {},
   "outputs": [],
   "source": [
    "def conv(image: np.ndarray, kernel: np.ndarray) -> np.ndarray:\n",
    "    \"\"\"\n",
    "    Aplica um filtro de convolução em uma imagem em escala de cinza.\n",
    "    \n",
    "    :param image: Matriz NumPy representando a imagem de entrada.\n",
    "    :param kernel: Matriz NumPy representando o filtro de convolução.\n",
    "    :return: Matriz NumPy representando a imagem filtrada.\n",
    "    \"\"\"\n",
    "\n",
    "    m, n = kernel.shape\n",
    "    assert m == n, \"Kernel deve ser uma matriz quadrada.\"\n",
    "    l, c = image.shape\n",
    "    \n",
    "    # Novas dimensões da imagem (imagem menos o tamanho do filtro):\n",
    "    new_l = l - m + 1\n",
    "    new_c = c - n + 1\n",
    "    new_image = np.zeros(shape=(new_l, new_c))\n",
    "\n",
    "    for i in range(new_l):\n",
    "        for j in range(new_c):\n",
    "            # Soma da multiplicação ponto-a-ponto entre o kernel e a\n",
    "            # Imagem (recorte do trecho da imagem do mesmo tamanho do kernel):\n",
    "            new_image[i, j] = np.sum(image[i:i + n, j:j + m] * kernel)\n",
    "    \n",
    "    return new_image"
   ]
  },
  {
   "cell_type": "code",
   "execution_count": 6,
   "metadata": {},
   "outputs": [],
   "source": [
    "def sobel_filter(image: np.ndarray) -> tuple:\n",
    "    \"\"\"\n",
    "    Aplica o operador de Sobel para detecção de bordas.\n",
    "    \n",
    "    :param image: Matriz NumPy representando a imagem em escala de cinza.\n",
    "    :return: Tupla contendo (gradiente X, gradiente Y, magnitude do gradiente).\n",
    "    \"\"\"\n",
    "    \n",
    "    # Definir os kernels de Sobel para direções X e Y\n",
    "    kernel_x = np.array([\n",
    "        [-1, 0, 1],\n",
    "        [-2, 0, 2],\n",
    "        [-1, 0, 1]\n",
    "    ], dtype=np.float64)\n",
    "    \n",
    "    kernel_y = np.array([\n",
    "        [-1, -2, -1],\n",
    "        [ 0,  0,  0],\n",
    "        [ 1,  2,  1]\n",
    "    ], dtype=np.float64)\n",
    "    \n",
    "    # Aplicar convolução com os kernels\n",
    "    conv_x = conv(image, kernel_x)\n",
    "    conv_y = conv(image, kernel_y)\n",
    "    \n",
    "    # Calcular a magnitude do gradiente (mesmo que np.sqrt(conv_x**2 + conv_y**2))\n",
    "    gradient = np.hypot(conv_x, conv_y)\n",
    "    \n",
    "    return conv_x, conv_y, gradient"
   ]
  },
  {
   "cell_type": "code",
   "execution_count": null,
   "metadata": {},
   "outputs": [
    {
     "data": {
      "image/png": "",
      "text/plain": [
       "<Figure size 1200x600 with 3 Axes>"
      ]
     },
     "metadata": {},
     "output_type": "display_data"
    },
    {
     "data": {
      "image/png": "",
      "text/plain": [
       "<Figure size 600x600 with 1 Axes>"
      ]
     },
     "metadata": {},
     "output_type": "display_data"
    }
   ],
   "source": [
    "if __name__ == \"__main__\":\n",
    "    mario_grayscale = convert_to_grayscale(MARIO_SACUDO_RGB)\n",
    "    \n",
    "    # Normalizando para 0-1 antes da convolução braba\n",
    "    mario_normalized = mario_grayscale / 255.0\n",
    "    \n",
    "    # Aplicar o filtro Sobel\n",
    "    sobel_x, sobel_y, sobel_combined = sobel_filter(mario_normalized)\n",
    "    \n",
    "    # Normalizando resultados\n",
    "    sobel_x_abs = np.abs(sobel_x)\n",
    "    sobel_y_abs = np.abs(sobel_y)\n",
    "    \n",
    "    # Normalizando o gradiente para 0-1\n",
    "    sobel_combined_normalized = sobel_combined / sobel_combined.max()\n",
    "    \n",
    "    plt.figure(figsize=(12, 6))\n",
    "    \n",
    "    plt.subplot(1, 3, 1)\n",
    "    plt.title(\"Imagem Original\")\n",
    "    plt.imshow(mario_grayscale, cmap='gray')\n",
    "    \n",
    "    plt.subplot(1, 3, 2)\n",
    "    plt.title(\"Sobel - X\")\n",
    "    plt.imshow(sobel_x_abs, cmap='gray')\n",
    "    \n",
    "    plt.subplot(1, 3, 3)\n",
    "    plt.title(\"Sobel - Y\")\n",
    "    plt.imshow(sobel_y_abs, cmap='gray')\n",
    "    \n",
    "    plt.figure(figsize=(6, 6))\n",
    "    plt.title(\"Sobel final\")\n",
    "    plt.imshow(sobel_combined_normalized, cmap='gray')\n",
    "    \n",
    "    # plt.show()"
   ]
  }
 ],
 "metadata": {
  "kernelspec": {
   "display_name": "venv",
   "language": "python",
   "name": "python3"
  },
  "language_info": {
   "codemirror_mode": {
    "name": "ipython",
    "version": 3
   },
   "file_extension": ".py",
   "mimetype": "text/x-python",
   "name": "python",
   "nbconvert_exporter": "python",
   "pygments_lexer": "ipython3",
   "version": "3.13.2"
  }
 },
 "nbformat": 4,
 "nbformat_minor": 2
}
