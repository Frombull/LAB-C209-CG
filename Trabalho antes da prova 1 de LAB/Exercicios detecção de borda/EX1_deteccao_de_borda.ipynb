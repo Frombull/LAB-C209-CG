{
 "cells": [
  {
   "cell_type": "code",
   "execution_count": null,
   "metadata": {},
   "outputs": [],
   "source": [
    "import matplotlib.pyplot as plt\n",
    "from PIL import Image\n",
    "import numpy as np"
   ]
  },
  {
   "cell_type": "code",
   "execution_count": 2,
   "metadata": {},
   "outputs": [],
   "source": [
    "MARIO_SACUDO_RGB = np.array(Image.open(\"mario_sacudo.png\"))[:, :, :3]"
   ]
  },
  {
   "cell_type": "code",
   "execution_count": 3,
   "metadata": {},
   "outputs": [],
   "source": [
    "def convert_to_grayscale(rgb_image: np.ndarray) -> np.ndarray:\n",
    "    # Carregar a imagem\n",
    "    l, c, _ = rgb_image.shape\n",
    "    \n",
    "    # Criar matriz para armazenar a versão em cinza\n",
    "    grayscale_image = np.zeros((l, c), dtype=np.uint8)\n",
    "    \n",
    "    # Converter para escala de cinza\n",
    "    for i in range(l):\n",
    "        for j in range(c):\n",
    "            r, g, b = map(float, rgb_image[i, j])\n",
    "            grayscale_image[i, j] = int((r + g + b) / 3)\n",
    "    \n",
    "    return grayscale_image"
   ]
  },
  {
   "cell_type": "code",
   "execution_count": 8,
   "metadata": {},
   "outputs": [],
   "source": [
    "def conv(image: np.ndarray, kernel: np.ndarray) -> np.ndarray:\n",
    "    \"\"\"\n",
    "    Aplica um filtro de convolução em uma imagem em escala de cinza.\n",
    "    \n",
    "    :param image: Matriz NumPy representando a imagem de entrada.\n",
    "    :param kernel: Matriz NumPy representando o filtro de convolução.\n",
    "    :return: Matriz NumPy representando a imagem filtrada.\n",
    "    \"\"\"\n",
    "\n",
    "    m, n = kernel.shape\n",
    "    assert m == n, \"Kernel deve ser uma matriz quadrada.\"\n",
    "    l, c = image.shape\n",
    "    \n",
    "    # Novas dimensões da imagem (imagem menos o tamanho do filtro):\n",
    "    new_l = l - m + 1\n",
    "    new_c = c - n + 1\n",
    "    new_image = np.zeros(shape=(new_l, new_c))\n",
    "\n",
    "    for i in range(new_l):\n",
    "        for j in range(new_c):\n",
    "            # Soma da multiplicação ponto-a-ponto entre o kernel e a\n",
    "            # Imagem (recorte do trecho da imagem do mesmo tamanho do kernel):\n",
    "            new_image[i, j] = np.sum(image[i:i + n, j:j + m] * kernel)\n",
    "    \n",
    "    return new_image"
   ]
  },
  {
   "cell_type": "code",
   "execution_count": 9,
   "metadata": {},
   "outputs": [],
   "source": [
    "def roberts_cross(image: np.ndarray) -> np.ndarray:\n",
    "    \"\"\"\n",
    "    Aplica o operador de Roberts Cross para detecção de bordas.\n",
    "    \n",
    "    :param image: Matriz NumPy representando a imagem em escala de cinza.\n",
    "    :return: Matriz NumPy representando a magnitude do gradiente.\n",
    "    \"\"\"\n",
    "    \n",
    "    kernel_x = np.array([[1, 0], [ 0, -1]], dtype=np.float64)\n",
    "    kernel_y = np.array([[0, 1], [-1,  0]], dtype=np.float64)\n",
    "    \n",
    "    conv_x = conv(image, kernel_x)\n",
    "    conv_y = conv(image, kernel_y)\n",
    "    \n",
    "    # np.hypot(x, y) é o mesmo que np.sqrt((x ** 2) + (y ** 2))\n",
    "    gradient = np.hypot(conv_x, conv_y)\n",
    "    \n",
    "    return gradient"
   ]
  },
  {
   "cell_type": "code",
   "execution_count": 11,
   "metadata": {},
   "outputs": [
    {
     "data": {
      "image/png": "",
      "text/plain": [
       "<Figure size 1600x1600 with 1 Axes>"
      ]
     },
     "metadata": {},
     "output_type": "display_data"
    }
   ],
   "source": [
    "if __name__ == \"__main__\":\n",
    "  mario_grayscale = convert_to_grayscale(MARIO_SACUDO_RGB);\n",
    "  plt.figure(figsize=(16, 16))\n",
    "  plt.imshow(roberts_cross(mario_grayscale / 255), cmap='gray')\n",
    "  #plt.show()"
   ]
  }
 ],
 "metadata": {
  "kernelspec": {
   "display_name": "venv",
   "language": "python",
   "name": "python3"
  },
  "language_info": {
   "codemirror_mode": {
    "name": "ipython",
    "version": 3
   },
   "file_extension": ".py",
   "mimetype": "text/x-python",
   "name": "python",
   "nbconvert_exporter": "python",
   "pygments_lexer": "ipython3",
   "version": "3.13.2"
  }
 },
 "nbformat": 4,
 "nbformat_minor": 2
}
